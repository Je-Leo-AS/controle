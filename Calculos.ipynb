{
 "cells": [
  {
   "cell_type": "code",
   "execution_count": null,
   "metadata": {},
   "outputs": [],
   "source": [
    "import serial\n",
    "import matplotlib.pyplot as plt\n",
    "import time\n",
    "import pandas as pd\n",
    "from lib import *\n",
    "import numpy as np\n",
    "from numpy import sqrt, log, cos, tan, degrees\n",
    "from scipy.signal import step, lti, TransferFunction\n",
    "from cmath import polar"
   ]
  },
  {
   "cell_type": "code",
   "execution_count": null,
   "metadata": {},
   "outputs": [],
   "source": [
    "df = pd.read_csv('data/data.csv')\n",
    "T = 0.0001 \n",
    "samples = int(1/T/100)\n",
    "df['segundos'] = df.index*T\n",
    "tempo = df['segundos'].values\n",
    "valores = df['Channel 1'].values\n",
    "fig, ax = plt.subplots()\n",
    "ax.plot(tempo, valores)"
   ]
  },
  {
   "cell_type": "code",
   "execution_count": null,
   "metadata": {},
   "outputs": [],
   "source": [
    "max_value = max(df['Channel 1'])\n",
    "df['diff'] = abs(df['Channel 1'] - max_value*0.63)\n",
    "i = df.loc[df['Channel 1'] == 0.0].index[-1]\n",
    "time1 = float(df.loc[df['diff'] == min(df['diff']), 'segundos'])\n",
    "time0 = df.loc[i,'segundos']\n",
    "time_last = time1 + T*samples\n",
    "tau = float(time1 - time0)\n",
    "K = int(df['Channel 1'].max())/127\n",
    "time0,time1,time_last, tau"
   ]
  },
  {
   "cell_type": "code",
   "execution_count": null,
   "metadata": {},
   "outputs": [],
   "source": [
    "num = [max_value]\n",
    "den = [tau, 1]\n",
    "t_total = time_last - time0"
   ]
  },
  {
   "cell_type": "code",
   "execution_count": null,
   "metadata": {},
   "outputs": [],
   "source": [
    "t = np.linspace(0,t_total,samples)\n",
    "y = transfer_function(num, den, t)\n",
    "plt.plot(t, y)\n",
    "plt.xlabel('Tempo (s)')\n",
    "plt.ylabel('Amplitude')\n",
    "plt.title('Resposta a Degrau da Função Transferência')\n",
    "plt.show()"
   ]
  },
  {
   "cell_type": "code",
   "execution_count": null,
   "metadata": {},
   "outputs": [],
   "source": [
    "x1 = df.loc[df['segundos']>= time0, 'segundos'] - time0\n",
    "y1 = df.loc[df['segundos']>= time0, 'Channel 1']\n",
    "\n",
    "x2 = t\n",
    "y2 = y\n",
    "# Cria uma figura\\n\",\n",
    "fig, ax = plt.subplots()\n",
    "# Adiciona o primeiro gráfico à figura\\n\",\n",
    "ax.plot(x1, y1, label='Real')\n",
    "# Adiciona o segundo gráfico à figura\\n\",\n",
    "ax.plot(x2, y2, label='Simulado')\n",
    "\n",
    "# Adiciona legenda\\n\",\n",
    "ax.legend()\n",
    "# Mostra a figura\\n\",\n",
    "plt.show()"
   ]
  },
  {
   "cell_type": "code",
   "execution_count": null,
   "metadata": {},
   "outputs": [],
   "source": [
    "Tp = 2*tau\n",
    "mp = 0.1\n",
    "Kamort = sqrt((log(mp)**2)/(np.pi**2+(log(mp)**2)))\n",
    "omega_d = np.pi/Tp\n",
    "omega_n = omega_d/sqrt(1-Kamort**2)\n",
    "p1 = complex (Kamort*omega_n, omega_d)\n",
    "p2 = complex (Kamort*omega_n, -omega_d)\n",
    "Hs0 = K/(tau*p1+1)"
   ]
  },
  {
   "cell_type": "code",
   "execution_count": null,
   "metadata": {},
   "outputs": [],
   "source": [
    "rHs0, tetaHs0 = polar(Hs0)\n",
    "rp , tetap = polar(p1)\n",
    "tetacs0 = np.pi - tetaHs0\n",
    "rcs0 = 1/rHs0"
   ]
  },
  {
   "cell_type": "code",
   "execution_count": null,
   "metadata": {},
   "outputs": [],
   "source": [
    "A = (1/p1).real\n",
    "B = (1/p1).imag\n",
    "Ti = 1/(B/tan(tetacs0)-A)\n",
    "k = 1/(rHs0*abs(1+1/(Ti*p1)))\n",
    "ki = k/Ti"
   ]
  },
  {
   "cell_type": "code",
   "execution_count": null,
   "metadata": {},
   "outputs": [],
   "source": [
    "kp = (2*omega_n*Kamort*tau-1)/K\n",
    "ki = omega_n**2*tau/K\n",
    "kp,ki"
   ]
  }
 ],
 "metadata": {
  "kernelspec": {
   "display_name": "Python 3",
   "language": "python",
   "name": "python3"
  },
  "language_info": {
   "name": "python",
   "version": "3.11.1"
  },
  "orig_nbformat": 4,
  "vscode": {
   "interpreter": {
    "hash": "e7370f93d1d0cde622a1f8e1c04877d8463912d04d973331ad4851f04de6915a"
   }
  }
 },
 "nbformat": 4,
 "nbformat_minor": 2
}
