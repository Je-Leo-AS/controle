{
 "cells": [
  {
   "cell_type": "code",
   "execution_count": null,
   "metadata": {},
   "outputs": [],
   "source": [
    "import serial\n",
    "import matplotlib.pyplot as plt\n",
    "import time\n",
    "import pandas as pd\n",
    "import numpy as np\n",
    "from scipy.signal import step, lti, TransferFunction\n",
    "from lib import *"
   ]
  },
  {
   "cell_type": "raw",
   "metadata": {},
   "source": [
    "# Configurações da porta serial\n",
    "ser = serial.Serial('/dev/ttyUSB0',9600)\n",
    "ser.flushInput()\n",
    "\n",
    "# Inicialização do gráfico\n",
    "plt.ion() # habilita plotagem interativa\n",
    "fig, ax = plt.subplots()\n",
    "\n",
    "# Listas para armazenar os dados do gráfico\n",
    "tempo = []\n",
    "valores = []\n",
    "\n",
    "# Dataframe para armazenar os dados\n",
    "df = pd.DataFrame(columns=[\"timestamp\", \"valor\"])\n",
    "\n",
    "# Loop de plotagem\n",
    "start_time = time.time()\n",
    "current_time = time.time()\n",
    "while current_time - start_time < 10:\n",
    "    current_time = time.time()\n",
    "    valor = int(ser.readline().strip()) # lê linha da serial e decodifica\n",
    "    tempo.append(current_time - start_time) # armazena o tempo\n",
    "    valores.append(valor) # armazena o valor\n",
    "    df = pd.concat([df, pd.DataFrame({\"timestamp\": [current_time], \"valor\": [valor]})], ignore_index=True) # adiciona os dados ao dataframe\n",
    "    ax.clear() # limpa o gráfico anterior\n",
    "    ax.plot(tempo, valores) # plota o novo gráfico\n",
    "    #plt.pause(0.00000001) # espera 0,01 segundos antes de atualizar o gráfico\n",
    "\n",
    "# Desabilita plotagem interativa e mostra o gráfico final\n",
    "plt.ioff()\n",
    "plt.show()"
   ]
  },
  {
   "cell_type": "raw",
   "metadata": {},
   "source": [
    "portName = '/dev/ttyUSB0'\n",
    "baudRate = 9600\n",
    "maxPlotLength = 100\n",
    "main(portName, baudRate, maxPlotLength)"
   ]
  },
  {
   "cell_type": "code",
   "execution_count": null,
   "metadata": {},
   "outputs": [],
   "source": [
    "df = pd.read_csv('data/data.csv')"
   ]
  },
  {
   "cell_type": "code",
   "execution_count": null,
   "metadata": {},
   "outputs": [],
   "source": [
    "T = 192 \n",
    "df['segundos'] = df.index/T\n",
    "tempo = df['segundos'].values\n",
    "valores = df['Channel 1'].values\n",
    "fig, ax = plt.subplots()\n",
    "ax.plot(tempo, valores)"
   ]
  },
  {
   "cell_type": "code",
   "execution_count": null,
   "metadata": {},
   "outputs": [],
   "source": [
    "max_value = max(df['Channel 1'])\n",
    "df['diff'] = abs(df['Channel 1'] - max_value*0.63)\n",
    "i = df.loc[df['Channel 1'] == 0.0].index[-1]\n",
    "time1 = float(df.loc[df['diff'] == min(df['diff']), 'segundos'])\n",
    "time0 = df.loc[i,'segundos']\n",
    "time_last = df.loc[df.index[-1], 'segundos']\n",
    "tau = float(time1 - time0)\n",
    "time0,time1,time_last, tau"
   ]
  },
  {
   "cell_type": "code",
   "execution_count": null,
   "metadata": {},
   "outputs": [],
   "source": [
    "num = [max_value]\n",
    "den = [tau, 1]\n",
    "t_total = time_last - time1\n",
    "samples= len(df.loc[df['segundos']>= time1])\n",
    "t = np.linspace(0,t_total,samples)\n",
    "y = transfer_function(num, den, t)\n",
    "plt.plot(t, y)\n",
    "plt.xlabel('Tempo (s)')\n",
    "plt.ylabel('Amplitude')\n",
    "plt.title('Resposta a Degrau da Função Transferência')\n",
    "plt.show()"
   ]
  },
  {
   "cell_type": "code",
   "execution_count": null,
   "metadata": {},
   "outputs": [],
   "source": [
    "x1 = df.loc[df['segundos']>= time0, 'segundos'] - time0\n",
    "y1 = df.loc[df['segundos']>= time0, 'Channel 1']\n",
    "\n",
    "x2 = t\n",
    "y2 = y\n",
    "\n",
    "# Cria uma figura\n",
    "fig, ax = plt.subplots()\n",
    "\n",
    "# Adiciona o primeiro gráfico à figura\n",
    "ax.plot(x1, y1, label='Real')\n",
    "\n",
    "# Adiciona o segundo gráfico à figura\n",
    "ax.plot(x2, y2, label='Simulado')\n",
    "\n",
    "# Adiciona legenda\n",
    "ax.legend()\n",
    "\n",
    "# Mostra a figura\n",
    "plt.show()"
   ]
  }
 ],
 "metadata": {
  "kernelspec": {
   "display_name": "Python 3",
   "language": "python",
   "name": "python3"
  },
  "language_info": {
   "codemirror_mode": {
    "name": "ipython",
    "version": 3
   },
   "file_extension": ".py",
   "mimetype": "text/x-python",
   "name": "python",
   "nbconvert_exporter": "python",
   "pygments_lexer": "ipython3",
   "version": "3.11.1"
  },
  "orig_nbformat": 4,
  "vscode": {
   "interpreter": {
    "hash": "e7370f93d1d0cde622a1f8e1c04877d8463912d04d973331ad4851f04de6915a"
   }
  }
 },
 "nbformat": 4,
 "nbformat_minor": 2
}
